{
 "cells": [
  {
   "cell_type": "code",
   "execution_count": 2,
   "metadata": {},
   "outputs": [
    {
     "name": "stdout",
     "output_type": "stream",
     "text": [
      "5\n",
      "--------e--------\n",
      "------e-d-e------\n",
      "----e-d-c-d-e----\n",
      "--e-d-c-b-c-d-e--\n",
      "e-d-c-b-a-b-c-d-e\n",
      "--e-d-c-b-c-d-e--\n",
      "----e-d-c-d-e----\n",
      "------e-d-e------\n",
      "--------e--------\n"
     ]
    }
   ],
   "source": [
    "n = int(input())\n",
    "for i in range(n):\n",
    "    s = \"-\".join(chr(ord('a')+n-j-1) for j in range(i+1))\n",
    "    print((s+s[::-1][1:]).center(n*4-3, '-'))\n",
    "\n",
    "for i in range(n-1):\n",
    "    s = \"-\".join(chr(ord('a')+n-j-1) for j in range(n-i-1))\n",
    "    print((s+s[::-1][1:]).center(n*4-3, '-'))\n",
    "    "
   ]
  },
  {
   "cell_type": "code",
   "execution_count": 3,
   "metadata": {},
   "outputs": [
    {
     "name": "stdout",
     "output_type": "stream",
     "text": [
      "5\n",
      "--------e--------\n",
      "------e-d-e------\n",
      "----e-d-c-d-e----\n",
      "--e-d-c-b-c-d-e--\n",
      "e-d-c-b-a-b-c-d-e\n",
      "--e-d-c-b-c-d-e--\n",
      "----e-d-c-d-e----\n",
      "------e-d-e------\n",
      "--------e--------\n"
     ]
    }
   ],
   "source": [
    "# Another Solution\n",
    "size= int(input())\n",
    "myStr = 'abcdefghijklmnopqrstuvwxyz'[0:size]\n",
    "for i in range(size-1, -size, -1):\n",
    "    x = abs(i)\n",
    "    line = myStr[size:x:-1]+myStr[x:size]\n",
    "    print (\"--\"*x+ '-'.join(line)+\"--\"*x)"
   ]
  },
  {
   "cell_type": "code",
   "execution_count": 5,
   "metadata": {},
   "outputs": [
    {
     "name": "stdout",
     "output_type": "stream",
     "text": [
      "3\n",
      "----c----\n",
      "--c-b-c--\n",
      "c-b-a-b-c\n",
      "--c-b-c--\n",
      "----c----\n"
     ]
    }
   ],
   "source": [
    "# Another Solution\n",
    "import string\n",
    "\n",
    "size = int(input())\n",
    "alphabet = string.ascii_lowercase\n",
    "\n",
    "for i in range(size - 1, 0, -1):\n",
    "    row = [\"-\"] * (size * 2 - 1)\n",
    "    for j in range(0, size - i):\n",
    "        row[size - 1 - j] = alphabet[j + i]\n",
    "        row[size - 1 + j] = alphabet[j + i]\n",
    "    print(\"-\".join(row))\n",
    "\n",
    "for i in range(0, size):\n",
    "    row = [\"-\"] * (size * 2 - 1)\n",
    "    for j in range(0, size - i):\n",
    "        row[size - 1 - j] = alphabet[j + i]\n",
    "        row[size - 1 + j] = alphabet[j + i]\n",
    "    print(\"-\".join(row))"
   ]
  },
  {
   "cell_type": "code",
   "execution_count": null,
   "metadata": {},
   "outputs": [],
   "source": []
  }
 ],
 "metadata": {
  "kernelspec": {
   "display_name": "Python 3",
   "language": "python",
   "name": "python3"
  },
  "language_info": {
   "codemirror_mode": {
    "name": "ipython",
    "version": 3
   },
   "file_extension": ".py",
   "mimetype": "text/x-python",
   "name": "python",
   "nbconvert_exporter": "python",
   "pygments_lexer": "ipython3",
   "version": "3.7.6"
  }
 },
 "nbformat": 4,
 "nbformat_minor": 4
}
