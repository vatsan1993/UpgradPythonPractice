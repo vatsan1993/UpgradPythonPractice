{
 "cells": [
  {
   "cell_type": "code",
   "execution_count": 3,
   "metadata": {},
   "outputs": [
    {
     "name": "stdout",
     "output_type": "stream",
     "text": [
      "15, 2, 3, 2\n",
      "17\n"
     ]
    }
   ],
   "source": [
    "#take input here\n",
    "m,c,w,k=[int(i) for i in input().split(', ')]   #15, 2, 3, 2\n",
    "\n",
    "#start writing your code here\n",
    "\n",
    "#take input here\n",
    "\n",
    "# m= 15\n",
    "# c= 2\n",
    "# w=3\n",
    "# k=2\n",
    "\n",
    "\n",
    "choc = m//c  # choc= 7\n",
    "wrappers = choc # wrappers= 7\n",
    "\n",
    "\n",
    "while wrappers>=w: #\n",
    "    free_choc= (wrappers//w)*k # free_choc= 4\n",
    "    wrappers= wrappers-(free_choc*w//k) +free_choc # wrappers= 7-4*3+ 4= 7-12+4\n",
    "    choc+=free_choc\n",
    "    \n",
    "print(choc)\n",
    "    \n",
    "\n",
    "# while wrappers//k!=0:\n",
    "#     choc += wrappers//k\n",
    "#     wrappers = wrappers//k + wrappers%k\n",
    "    \n",
    "\n",
    "\n",
    "\n",
    "\n"
   ]
  },
  {
   "cell_type": "code",
   "execution_count": 9,
   "metadata": {},
   "outputs": [
    {
     "data": {
      "text/plain": [
       "[20, 40, 60, 80]"
      ]
     },
     "execution_count": 9,
     "metadata": {},
     "output_type": "execute_result"
    }
   ],
   "source": [
    "L=[10,20,30,40,50,60,70,80,90,100]\n",
    "[L[i] for i in range(1,9,2)]"
   ]
  },
  {
   "cell_type": "code",
   "execution_count": null,
   "metadata": {},
   "outputs": [],
   "source": []
  }
 ],
 "metadata": {
  "kernelspec": {
   "display_name": "Python 3",
   "language": "python",
   "name": "python3"
  },
  "language_info": {
   "codemirror_mode": {
    "name": "ipython",
    "version": 3
   },
   "file_extension": ".py",
   "mimetype": "text/x-python",
   "name": "python",
   "nbconvert_exporter": "python",
   "pygments_lexer": "ipython3",
   "version": "3.7.6"
  }
 },
 "nbformat": 4,
 "nbformat_minor": 4
}
