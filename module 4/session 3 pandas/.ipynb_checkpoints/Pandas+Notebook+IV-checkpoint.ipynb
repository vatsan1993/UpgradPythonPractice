{
 "cells": [
  {
   "cell_type": "markdown",
   "metadata": {},
   "source": [
    "## Python Libraries - Pandas - Merge and Append"
   ]
  },
  {
   "cell_type": "markdown",
   "metadata": {},
   "source": [
    "In this section, you will merge and concatenate multiple dataframes. Merging is one of the most common operations you will do, since data often comes in various files. "
   ]
  },
  {
   "cell_type": "markdown",
   "metadata": {},
   "source": [
    "### Merging"
   ]
  },
  {
   "cell_type": "markdown",
   "metadata": {},
   "source": [
    "For merging, we have sales data across multiple sheets in an Excel file. We will now work with all these sheets and learn to:\n",
    "* Merge multiple dataframes using common columns/keys using ```pd.merge()```\n",
    "\n",
    "Let's first read all the data files."
   ]
  },
  {
   "cell_type": "code",
   "execution_count": 1,
   "metadata": {},
   "outputs": [],
   "source": [
    "# import the required libraries\n",
    "import numpy as np\n",
    "import pandas as pd"
   ]
  },
  {
   "cell_type": "code",
   "execution_count": 3,
   "metadata": {},
   "outputs": [],
   "source": [
    "# read the sheets from file 'sales_returns.xlsx' into 2 different dataframes - orders and returns\n",
    "orders = pd.read_excel('sales_returns.xlsx', sheet_name= 'Orders')\n",
    "returns = pd.read_excel('sales_returns.xlsx', sheet_name= 'Returns')"
   ]
  },
  {
   "cell_type": "code",
   "execution_count": 4,
   "metadata": {},
   "outputs": [
    {
     "data": {
      "text/plain": [
       "(25728, 4)"
      ]
     },
     "execution_count": 4,
     "metadata": {},
     "output_type": "execute_result"
    }
   ],
   "source": [
    "# Check the shape of the dataframe 'orders'\n",
    "orders.shape"
   ]
  },
  {
   "cell_type": "code",
   "execution_count": 5,
   "metadata": {},
   "outputs": [
    {
     "data": {
      "text/plain": [
       "(1079, 2)"
      ]
     },
     "execution_count": 5,
     "metadata": {},
     "output_type": "execute_result"
    }
   ],
   "source": [
    "# Check the shape of the dataframe 'returns'\n",
    "returns.shape"
   ]
  },
  {
   "cell_type": "code",
   "execution_count": 6,
   "metadata": {},
   "outputs": [
    {
     "data": {
      "text/html": [
       "<div>\n",
       "<style scoped>\n",
       "    .dataframe tbody tr th:only-of-type {\n",
       "        vertical-align: middle;\n",
       "    }\n",
       "\n",
       "    .dataframe tbody tr th {\n",
       "        vertical-align: top;\n",
       "    }\n",
       "\n",
       "    .dataframe thead th {\n",
       "        text-align: right;\n",
       "    }\n",
       "</style>\n",
       "<table border=\"1\" class=\"dataframe\">\n",
       "  <thead>\n",
       "    <tr style=\"text-align: right;\">\n",
       "      <th></th>\n",
       "      <th>Order ID</th>\n",
       "      <th>Market</th>\n",
       "      <th>Profit</th>\n",
       "      <th>Sales</th>\n",
       "    </tr>\n",
       "  </thead>\n",
       "  <tbody>\n",
       "    <tr>\n",
       "      <th>0</th>\n",
       "      <td>AG-2012-AA6453-41020</td>\n",
       "      <td>Africa</td>\n",
       "      <td>53.76</td>\n",
       "      <td>298.68</td>\n",
       "    </tr>\n",
       "    <tr>\n",
       "      <th>1</th>\n",
       "      <td>AG-2012-AC4203-40915</td>\n",
       "      <td>Africa</td>\n",
       "      <td>14.58</td>\n",
       "      <td>91.38</td>\n",
       "    </tr>\n",
       "    <tr>\n",
       "      <th>2</th>\n",
       "      <td>AG-2012-AH2103-41133</td>\n",
       "      <td>Africa</td>\n",
       "      <td>11.04</td>\n",
       "      <td>276.96</td>\n",
       "    </tr>\n",
       "    <tr>\n",
       "      <th>3</th>\n",
       "      <td>AG-2012-AJ7803-40978</td>\n",
       "      <td>Africa</td>\n",
       "      <td>7.17</td>\n",
       "      <td>35.97</td>\n",
       "    </tr>\n",
       "    <tr>\n",
       "      <th>4</th>\n",
       "      <td>AG-2012-AS2853-41235</td>\n",
       "      <td>Africa</td>\n",
       "      <td>15.36</td>\n",
       "      <td>54.90</td>\n",
       "    </tr>\n",
       "  </tbody>\n",
       "</table>\n",
       "</div>"
      ],
      "text/plain": [
       "               Order ID  Market  Profit   Sales\n",
       "0  AG-2012-AA6453-41020  Africa   53.76  298.68\n",
       "1  AG-2012-AC4203-40915  Africa   14.58   91.38\n",
       "2  AG-2012-AH2103-41133  Africa   11.04  276.96\n",
       "3  AG-2012-AJ7803-40978  Africa    7.17   35.97\n",
       "4  AG-2012-AS2853-41235  Africa   15.36   54.90"
      ]
     },
     "execution_count": 6,
     "metadata": {},
     "output_type": "execute_result"
    }
   ],
   "source": [
    "# check the dataframe 'orders' and 'returns'\n",
    "orders.head()\n"
   ]
  },
  {
   "cell_type": "code",
   "execution_count": 7,
   "metadata": {},
   "outputs": [
    {
     "data": {
      "text/html": [
       "<div>\n",
       "<style scoped>\n",
       "    .dataframe tbody tr th:only-of-type {\n",
       "        vertical-align: middle;\n",
       "    }\n",
       "\n",
       "    .dataframe tbody tr th {\n",
       "        vertical-align: top;\n",
       "    }\n",
       "\n",
       "    .dataframe thead th {\n",
       "        text-align: right;\n",
       "    }\n",
       "</style>\n",
       "<table border=\"1\" class=\"dataframe\">\n",
       "  <thead>\n",
       "    <tr style=\"text-align: right;\">\n",
       "      <th></th>\n",
       "      <th>Returned</th>\n",
       "      <th>Order ID</th>\n",
       "    </tr>\n",
       "  </thead>\n",
       "  <tbody>\n",
       "    <tr>\n",
       "      <th>0</th>\n",
       "      <td>Yes</td>\n",
       "      <td>CA-2012-SA20830140-41210</td>\n",
       "    </tr>\n",
       "    <tr>\n",
       "      <th>1</th>\n",
       "      <td>Yes</td>\n",
       "      <td>IN-2012-PB19210127-41259</td>\n",
       "    </tr>\n",
       "    <tr>\n",
       "      <th>2</th>\n",
       "      <td>Yes</td>\n",
       "      <td>CA-2012-SC20095140-41174</td>\n",
       "    </tr>\n",
       "    <tr>\n",
       "      <th>3</th>\n",
       "      <td>Yes</td>\n",
       "      <td>IN-2015-JH158207-42140</td>\n",
       "    </tr>\n",
       "    <tr>\n",
       "      <th>4</th>\n",
       "      <td>Yes</td>\n",
       "      <td>IN-2014-LC168857-41747</td>\n",
       "    </tr>\n",
       "  </tbody>\n",
       "</table>\n",
       "</div>"
      ],
      "text/plain": [
       "  Returned                  Order ID\n",
       "0      Yes  CA-2012-SA20830140-41210\n",
       "1      Yes  IN-2012-PB19210127-41259\n",
       "2      Yes  CA-2012-SC20095140-41174\n",
       "3      Yes    IN-2015-JH158207-42140\n",
       "4      Yes    IN-2014-LC168857-41747"
      ]
     },
     "execution_count": 7,
     "metadata": {},
     "output_type": "execute_result"
    }
   ],
   "source": [
    "returns.head()"
   ]
  },
  {
   "cell_type": "code",
   "execution_count": 9,
   "metadata": {},
   "outputs": [
    {
     "data": {
      "text/html": [
       "<div>\n",
       "<style scoped>\n",
       "    .dataframe tbody tr th:only-of-type {\n",
       "        vertical-align: middle;\n",
       "    }\n",
       "\n",
       "    .dataframe tbody tr th {\n",
       "        vertical-align: top;\n",
       "    }\n",
       "\n",
       "    .dataframe thead th {\n",
       "        text-align: right;\n",
       "    }\n",
       "</style>\n",
       "<table border=\"1\" class=\"dataframe\">\n",
       "  <thead>\n",
       "    <tr style=\"text-align: right;\">\n",
       "      <th></th>\n",
       "      <th>Order ID</th>\n",
       "      <th>Market</th>\n",
       "      <th>Profit</th>\n",
       "      <th>Sales</th>\n",
       "      <th>Returned</th>\n",
       "    </tr>\n",
       "  </thead>\n",
       "  <tbody>\n",
       "    <tr>\n",
       "      <th>0</th>\n",
       "      <td>AG-2013-PO88653-41634</td>\n",
       "      <td>Africa</td>\n",
       "      <td>191.25</td>\n",
       "      <td>1932.24</td>\n",
       "      <td>Yes</td>\n",
       "    </tr>\n",
       "    <tr>\n",
       "      <th>1</th>\n",
       "      <td>AG-2014-CM21603-41755</td>\n",
       "      <td>Africa</td>\n",
       "      <td>10.32</td>\n",
       "      <td>43.05</td>\n",
       "      <td>Yes</td>\n",
       "    </tr>\n",
       "    <tr>\n",
       "      <th>2</th>\n",
       "      <td>AG-2014-CP20853-41889</td>\n",
       "      <td>Africa</td>\n",
       "      <td>14.10</td>\n",
       "      <td>84.72</td>\n",
       "      <td>Yes</td>\n",
       "    </tr>\n",
       "    <tr>\n",
       "      <th>3</th>\n",
       "      <td>AG-2014-RD95853-41712</td>\n",
       "      <td>Africa</td>\n",
       "      <td>21.03</td>\n",
       "      <td>64.38</td>\n",
       "      <td>Yes</td>\n",
       "    </tr>\n",
       "    <tr>\n",
       "      <th>4</th>\n",
       "      <td>AO-2013-JE57454-41544</td>\n",
       "      <td>Africa</td>\n",
       "      <td>106.59</td>\n",
       "      <td>499.23</td>\n",
       "      <td>Yes</td>\n",
       "    </tr>\n",
       "  </tbody>\n",
       "</table>\n",
       "</div>"
      ],
      "text/plain": [
       "                Order ID  Market  Profit    Sales Returned\n",
       "0  AG-2013-PO88653-41634  Africa  191.25  1932.24      Yes\n",
       "1  AG-2014-CM21603-41755  Africa   10.32    43.05      Yes\n",
       "2  AG-2014-CP20853-41889  Africa   14.10    84.72      Yes\n",
       "3  AG-2014-RD95853-41712  Africa   21.03    64.38      Yes\n",
       "4  AO-2013-JE57454-41544  Africa  106.59   499.23      Yes"
      ]
     },
     "execution_count": 9,
     "metadata": {},
     "output_type": "execute_result"
    }
   ],
   "source": [
    "# Create a dataframe 'return_orders' by merging the two dataframes on Order_ID\n",
    "\n",
    "return_orders= orders.merge(returns, on=\"Order ID\")\n",
    "# This performs inner join. This will fetch only the common elements.\n",
    "# Check the created dataframe\n",
    "return_orders.head()"
   ]
  },
  {
   "cell_type": "code",
   "execution_count": 11,
   "metadata": {},
   "outputs": [
    {
     "data": {
      "text/plain": [
       "(1079, 5)"
      ]
     },
     "execution_count": 11,
     "metadata": {},
     "output_type": "execute_result"
    }
   ],
   "source": [
    "# Check the shape of the new dataframe\n",
    "return_orders.shape"
   ]
  },
  {
   "cell_type": "code",
   "execution_count": 14,
   "metadata": {},
   "outputs": [
    {
     "data": {
      "text/html": [
       "<div>\n",
       "<style scoped>\n",
       "    .dataframe tbody tr th:only-of-type {\n",
       "        vertical-align: middle;\n",
       "    }\n",
       "\n",
       "    .dataframe tbody tr th {\n",
       "        vertical-align: top;\n",
       "    }\n",
       "\n",
       "    .dataframe thead th {\n",
       "        text-align: right;\n",
       "    }\n",
       "</style>\n",
       "<table border=\"1\" class=\"dataframe\">\n",
       "  <thead>\n",
       "    <tr style=\"text-align: right;\">\n",
       "      <th></th>\n",
       "      <th>Order ID</th>\n",
       "      <th>Market</th>\n",
       "      <th>Profit</th>\n",
       "      <th>Sales</th>\n",
       "      <th>Returned</th>\n",
       "    </tr>\n",
       "  </thead>\n",
       "  <tbody>\n",
       "    <tr>\n",
       "      <th>0</th>\n",
       "      <td>AG-2012-AA6453-41020</td>\n",
       "      <td>Africa</td>\n",
       "      <td>53.76</td>\n",
       "      <td>298.68</td>\n",
       "      <td>NaN</td>\n",
       "    </tr>\n",
       "    <tr>\n",
       "      <th>1</th>\n",
       "      <td>AG-2012-AC4203-40915</td>\n",
       "      <td>Africa</td>\n",
       "      <td>14.58</td>\n",
       "      <td>91.38</td>\n",
       "      <td>NaN</td>\n",
       "    </tr>\n",
       "    <tr>\n",
       "      <th>2</th>\n",
       "      <td>AG-2012-AH2103-41133</td>\n",
       "      <td>Africa</td>\n",
       "      <td>11.04</td>\n",
       "      <td>276.96</td>\n",
       "      <td>NaN</td>\n",
       "    </tr>\n",
       "    <tr>\n",
       "      <th>3</th>\n",
       "      <td>AG-2012-AJ7803-40978</td>\n",
       "      <td>Africa</td>\n",
       "      <td>7.17</td>\n",
       "      <td>35.97</td>\n",
       "      <td>NaN</td>\n",
       "    </tr>\n",
       "    <tr>\n",
       "      <th>4</th>\n",
       "      <td>AG-2012-AS2853-41235</td>\n",
       "      <td>Africa</td>\n",
       "      <td>15.36</td>\n",
       "      <td>54.90</td>\n",
       "      <td>NaN</td>\n",
       "    </tr>\n",
       "  </tbody>\n",
       "</table>\n",
       "</div>"
      ],
      "text/plain": [
       "               Order ID  Market  Profit   Sales Returned\n",
       "0  AG-2012-AA6453-41020  Africa   53.76  298.68      NaN\n",
       "1  AG-2012-AC4203-40915  Africa   14.58   91.38      NaN\n",
       "2  AG-2012-AH2103-41133  Africa   11.04  276.96      NaN\n",
       "3  AG-2012-AJ7803-40978  Africa    7.17   35.97      NaN\n",
       "4  AG-2012-AS2853-41235  Africa   15.36   54.90      NaN"
      ]
     },
     "execution_count": 14,
     "metadata": {},
     "output_type": "execute_result"
    }
   ],
   "source": [
    "# try to use the 'left' method to join two dataframes\n",
    "return_orders= orders.merge(returns , on=\"Order ID\" ,how='left')\n",
    "\n",
    "# Check the created dataframe\n",
    "return_orders.head()"
   ]
  },
  {
   "cell_type": "code",
   "execution_count": 15,
   "metadata": {},
   "outputs": [
    {
     "data": {
      "text/plain": [
       "(25728, 5)"
      ]
     },
     "execution_count": 15,
     "metadata": {},
     "output_type": "execute_result"
    }
   ],
   "source": [
    "return_orders.shape"
   ]
  },
  {
   "cell_type": "code",
   "execution_count": 16,
   "metadata": {},
   "outputs": [
    {
     "data": {
      "text/html": [
       "<div>\n",
       "<style scoped>\n",
       "    .dataframe tbody tr th:only-of-type {\n",
       "        vertical-align: middle;\n",
       "    }\n",
       "\n",
       "    .dataframe tbody tr th {\n",
       "        vertical-align: top;\n",
       "    }\n",
       "\n",
       "    .dataframe thead th {\n",
       "        text-align: right;\n",
       "    }\n",
       "</style>\n",
       "<table border=\"1\" class=\"dataframe\">\n",
       "  <thead>\n",
       "    <tr style=\"text-align: right;\">\n",
       "      <th></th>\n",
       "      <th>Order ID</th>\n",
       "      <th>Market</th>\n",
       "      <th>Profit</th>\n",
       "      <th>Sales</th>\n",
       "      <th>Returned</th>\n",
       "    </tr>\n",
       "  </thead>\n",
       "  <tbody>\n",
       "    <tr>\n",
       "      <th>35</th>\n",
       "      <td>AG-2013-PO88653-41634</td>\n",
       "      <td>Africa</td>\n",
       "      <td>191.2500</td>\n",
       "      <td>1932.240</td>\n",
       "      <td>Yes</td>\n",
       "    </tr>\n",
       "    <tr>\n",
       "      <th>44</th>\n",
       "      <td>AG-2014-CM21603-41755</td>\n",
       "      <td>Africa</td>\n",
       "      <td>10.3200</td>\n",
       "      <td>43.050</td>\n",
       "      <td>Yes</td>\n",
       "    </tr>\n",
       "    <tr>\n",
       "      <th>45</th>\n",
       "      <td>AG-2014-CP20853-41889</td>\n",
       "      <td>Africa</td>\n",
       "      <td>14.1000</td>\n",
       "      <td>84.720</td>\n",
       "      <td>Yes</td>\n",
       "    </tr>\n",
       "    <tr>\n",
       "      <th>56</th>\n",
       "      <td>AG-2014-RD95853-41712</td>\n",
       "      <td>Africa</td>\n",
       "      <td>21.0300</td>\n",
       "      <td>64.380</td>\n",
       "      <td>Yes</td>\n",
       "    </tr>\n",
       "    <tr>\n",
       "      <th>111</th>\n",
       "      <td>AO-2013-JE57454-41544</td>\n",
       "      <td>Africa</td>\n",
       "      <td>106.5900</td>\n",
       "      <td>499.230</td>\n",
       "      <td>Yes</td>\n",
       "    </tr>\n",
       "    <tr>\n",
       "      <th>...</th>\n",
       "      <td>...</td>\n",
       "      <td>...</td>\n",
       "      <td>...</td>\n",
       "      <td>...</td>\n",
       "      <td>...</td>\n",
       "    </tr>\n",
       "    <tr>\n",
       "      <th>25622</th>\n",
       "      <td>US-2015-ME17320140-42322</td>\n",
       "      <td>USCA</td>\n",
       "      <td>-24.7086</td>\n",
       "      <td>9.324</td>\n",
       "      <td>Yes</td>\n",
       "    </tr>\n",
       "    <tr>\n",
       "      <th>25659</th>\n",
       "      <td>US-2015-PN18775140-42339</td>\n",
       "      <td>USCA</td>\n",
       "      <td>8.9970</td>\n",
       "      <td>71.976</td>\n",
       "      <td>Yes</td>\n",
       "    </tr>\n",
       "    <tr>\n",
       "      <th>25675</th>\n",
       "      <td>US-2015-RL19615140-42147</td>\n",
       "      <td>USCA</td>\n",
       "      <td>18.8328</td>\n",
       "      <td>49.560</td>\n",
       "      <td>Yes</td>\n",
       "    </tr>\n",
       "    <tr>\n",
       "      <th>25685</th>\n",
       "      <td>US-2015-SC20050140-42278</td>\n",
       "      <td>USCA</td>\n",
       "      <td>-17.4690</td>\n",
       "      <td>11.646</td>\n",
       "      <td>Yes</td>\n",
       "    </tr>\n",
       "    <tr>\n",
       "      <th>25717</th>\n",
       "      <td>US-2015-TT21220140-42186</td>\n",
       "      <td>USCA</td>\n",
       "      <td>100.4255</td>\n",
       "      <td>204.950</td>\n",
       "      <td>Yes</td>\n",
       "    </tr>\n",
       "  </tbody>\n",
       "</table>\n",
       "<p>1079 rows × 5 columns</p>\n",
       "</div>"
      ],
      "text/plain": [
       "                       Order ID  Market    Profit     Sales Returned\n",
       "35        AG-2013-PO88653-41634  Africa  191.2500  1932.240      Yes\n",
       "44        AG-2014-CM21603-41755  Africa   10.3200    43.050      Yes\n",
       "45        AG-2014-CP20853-41889  Africa   14.1000    84.720      Yes\n",
       "56        AG-2014-RD95853-41712  Africa   21.0300    64.380      Yes\n",
       "111       AO-2013-JE57454-41544  Africa  106.5900   499.230      Yes\n",
       "...                         ...     ...       ...       ...      ...\n",
       "25622  US-2015-ME17320140-42322    USCA  -24.7086     9.324      Yes\n",
       "25659  US-2015-PN18775140-42339    USCA    8.9970    71.976      Yes\n",
       "25675  US-2015-RL19615140-42147    USCA   18.8328    49.560      Yes\n",
       "25685  US-2015-SC20050140-42278    USCA  -17.4690    11.646      Yes\n",
       "25717  US-2015-TT21220140-42186    USCA  100.4255   204.950      Yes\n",
       "\n",
       "[1079 rows x 5 columns]"
      ]
     },
     "execution_count": 16,
     "metadata": {},
     "output_type": "execute_result"
    }
   ],
   "source": [
    "# Check the orders where orders were returned\n",
    "return_orders[return_orders['Returned']=='Yes']"
   ]
  },
  {
   "cell_type": "code",
   "execution_count": 18,
   "metadata": {},
   "outputs": [
    {
     "name": "stdout",
     "output_type": "stream",
     "text": [
      "<class 'pandas.core.frame.DataFrame'>\n",
      "Int64Index: 25728 entries, 0 to 25727\n",
      "Data columns (total 5 columns):\n",
      " #   Column    Non-Null Count  Dtype  \n",
      "---  ------    --------------  -----  \n",
      " 0   Order ID  25728 non-null  object \n",
      " 1   Market    25728 non-null  object \n",
      " 2   Profit    25728 non-null  float64\n",
      " 3   Sales     25728 non-null  float64\n",
      " 4   Returned  25728 non-null  object \n",
      "dtypes: float64(2), object(3)\n",
      "memory usage: 1.2+ MB\n"
     ]
    }
   ],
   "source": [
    "# Print the dataframe summary using the info() command\n",
    "return_orders.info()"
   ]
  },
  {
   "cell_type": "code",
   "execution_count": 19,
   "metadata": {},
   "outputs": [
    {
     "data": {
      "text/html": [
       "<div>\n",
       "<style scoped>\n",
       "    .dataframe tbody tr th:only-of-type {\n",
       "        vertical-align: middle;\n",
       "    }\n",
       "\n",
       "    .dataframe tbody tr th {\n",
       "        vertical-align: top;\n",
       "    }\n",
       "\n",
       "    .dataframe thead th {\n",
       "        text-align: right;\n",
       "    }\n",
       "</style>\n",
       "<table border=\"1\" class=\"dataframe\">\n",
       "  <thead>\n",
       "    <tr style=\"text-align: right;\">\n",
       "      <th></th>\n",
       "      <th>Order ID</th>\n",
       "      <th>Market</th>\n",
       "      <th>Profit</th>\n",
       "      <th>Sales</th>\n",
       "      <th>Returned</th>\n",
       "    </tr>\n",
       "  </thead>\n",
       "  <tbody>\n",
       "    <tr>\n",
       "      <th>0</th>\n",
       "      <td>AG-2012-AA6453-41020</td>\n",
       "      <td>Africa</td>\n",
       "      <td>53.76</td>\n",
       "      <td>298.68</td>\n",
       "      <td>nan</td>\n",
       "    </tr>\n",
       "    <tr>\n",
       "      <th>1</th>\n",
       "      <td>AG-2012-AC4203-40915</td>\n",
       "      <td>Africa</td>\n",
       "      <td>14.58</td>\n",
       "      <td>91.38</td>\n",
       "      <td>nan</td>\n",
       "    </tr>\n",
       "    <tr>\n",
       "      <th>2</th>\n",
       "      <td>AG-2012-AH2103-41133</td>\n",
       "      <td>Africa</td>\n",
       "      <td>11.04</td>\n",
       "      <td>276.96</td>\n",
       "      <td>nan</td>\n",
       "    </tr>\n",
       "    <tr>\n",
       "      <th>3</th>\n",
       "      <td>AG-2012-AJ7803-40978</td>\n",
       "      <td>Africa</td>\n",
       "      <td>7.17</td>\n",
       "      <td>35.97</td>\n",
       "      <td>nan</td>\n",
       "    </tr>\n",
       "    <tr>\n",
       "      <th>4</th>\n",
       "      <td>AG-2012-AS2853-41235</td>\n",
       "      <td>Africa</td>\n",
       "      <td>15.36</td>\n",
       "      <td>54.90</td>\n",
       "      <td>nan</td>\n",
       "    </tr>\n",
       "  </tbody>\n",
       "</table>\n",
       "</div>"
      ],
      "text/plain": [
       "               Order ID  Market  Profit   Sales Returned\n",
       "0  AG-2012-AA6453-41020  Africa   53.76  298.68      nan\n",
       "1  AG-2012-AC4203-40915  Africa   14.58   91.38      nan\n",
       "2  AG-2012-AH2103-41133  Africa   11.04  276.96      nan\n",
       "3  AG-2012-AJ7803-40978  Africa    7.17   35.97      nan\n",
       "4  AG-2012-AS2853-41235  Africa   15.36   54.90      nan"
      ]
     },
     "execution_count": 19,
     "metadata": {},
     "output_type": "execute_result"
    }
   ],
   "source": [
    "# Change the data type of the column 'Returned' \n",
    "# converting nans into strings so we can change it to no easily\n",
    "return_orders['Returned']= return_orders['Returned'].astype('str')\n",
    "\n",
    "# Check the dataframe after modification\n",
    "return_orders.head()"
   ]
  },
  {
   "cell_type": "code",
   "execution_count": 20,
   "metadata": {},
   "outputs": [
    {
     "data": {
      "text/html": [
       "<div>\n",
       "<style scoped>\n",
       "    .dataframe tbody tr th:only-of-type {\n",
       "        vertical-align: middle;\n",
       "    }\n",
       "\n",
       "    .dataframe tbody tr th {\n",
       "        vertical-align: top;\n",
       "    }\n",
       "\n",
       "    .dataframe thead th {\n",
       "        text-align: right;\n",
       "    }\n",
       "</style>\n",
       "<table border=\"1\" class=\"dataframe\">\n",
       "  <thead>\n",
       "    <tr style=\"text-align: right;\">\n",
       "      <th></th>\n",
       "      <th>Order ID</th>\n",
       "      <th>Market</th>\n",
       "      <th>Profit</th>\n",
       "      <th>Sales</th>\n",
       "      <th>Returned</th>\n",
       "    </tr>\n",
       "  </thead>\n",
       "  <tbody>\n",
       "    <tr>\n",
       "      <th>0</th>\n",
       "      <td>AG-2012-AA6453-41020</td>\n",
       "      <td>Africa</td>\n",
       "      <td>53.76</td>\n",
       "      <td>298.68</td>\n",
       "      <td>No</td>\n",
       "    </tr>\n",
       "    <tr>\n",
       "      <th>1</th>\n",
       "      <td>AG-2012-AC4203-40915</td>\n",
       "      <td>Africa</td>\n",
       "      <td>14.58</td>\n",
       "      <td>91.38</td>\n",
       "      <td>No</td>\n",
       "    </tr>\n",
       "    <tr>\n",
       "      <th>2</th>\n",
       "      <td>AG-2012-AH2103-41133</td>\n",
       "      <td>Africa</td>\n",
       "      <td>11.04</td>\n",
       "      <td>276.96</td>\n",
       "      <td>No</td>\n",
       "    </tr>\n",
       "    <tr>\n",
       "      <th>3</th>\n",
       "      <td>AG-2012-AJ7803-40978</td>\n",
       "      <td>Africa</td>\n",
       "      <td>7.17</td>\n",
       "      <td>35.97</td>\n",
       "      <td>No</td>\n",
       "    </tr>\n",
       "    <tr>\n",
       "      <th>4</th>\n",
       "      <td>AG-2012-AS2853-41235</td>\n",
       "      <td>Africa</td>\n",
       "      <td>15.36</td>\n",
       "      <td>54.90</td>\n",
       "      <td>No</td>\n",
       "    </tr>\n",
       "  </tbody>\n",
       "</table>\n",
       "</div>"
      ],
      "text/plain": [
       "               Order ID  Market  Profit   Sales Returned\n",
       "0  AG-2012-AA6453-41020  Africa   53.76  298.68       No\n",
       "1  AG-2012-AC4203-40915  Africa   14.58   91.38       No\n",
       "2  AG-2012-AH2103-41133  Africa   11.04  276.96       No\n",
       "3  AG-2012-AJ7803-40978  Africa    7.17   35.97       No\n",
       "4  AG-2012-AS2853-41235  Africa   15.36   54.90       No"
      ]
     },
     "execution_count": 20,
     "metadata": {},
     "output_type": "execute_result"
    }
   ],
   "source": [
    "# Replace the 'nan' value with 'No' in the column 'Returned'\n",
    "return_orders['Returned']=return_orders['Returned'].apply(lambda x: 'No' if x=='nan' else 'Yes')\n",
    "\n",
    "# Check the dataframe after modification\n",
    "return_orders.head()"
   ]
  },
  {
   "cell_type": "code",
   "execution_count": 21,
   "metadata": {},
   "outputs": [
    {
     "name": "stdout",
     "output_type": "stream",
     "text": [
      "                           name                     address              city  \\\n",
      "0     arnie morton's of chicago   \"435 s. la cienega blvd.\"     \"los angeles\"   \n",
      "1                    art's deli       \"12224 ventura blvd.\"     \"studio city\"   \n",
      "2                 bel-air hotel      \"701 stone canyon rd.\"         \"bel air\"   \n",
      "3                    cafe bizou       \"14016 ventura blvd.\"    \"sherman oaks\"   \n",
      "4                     campanile       \"624 s. la brea ave.\"     \"los angeles\"   \n",
      "5               chinois on main             \"2709 main st.\"    \"santa monica\"   \n",
      "6                        citrus         \"6703 melrose ave.\"     \"los angeles\"   \n",
      "7           fenix at the argyle         \"8358 sunset blvd.\"    \"w. hollywood\"   \n",
      "8                       granita       \"23725 w. malibu rd.\"          \"malibu\"   \n",
      "9                    grill  the           \"9560 dayton way\"   \"beverly hills\"   \n",
      "10                        katsu       \"1972 hillhurst ave.\"       \"los feliz\"   \n",
      "11                  l'orangerie   \"903 n. la cienega blvd.\"    \"w. hollywood\"   \n",
      "12  le chardonnay (los angeles)         \"8284 melrose ave.\"     \"los angeles\"   \n",
      "13               locanda veneta         \"8638 w. third st.\"     \"los angeles\"   \n",
      "14                    matsuhisa   \"129 n. la cienega blvd.\"   \"beverly hills\"   \n",
      "15      palm  the (los angeles)   \"9001 santa monica blvd.\"    \"w. hollywood\"   \n",
      "16                       patina         \"5955 melrose ave.\"     \"los angeles\"   \n",
      "17        philippe the original       \"1001 n. alameda st.\"       \"chinatown\"   \n",
      "18                 pinot bistro       \"12969 ventura blvd.\"     \"studio city\"   \n",
      "19            rex il ristorante          \"617 s. olive st.\"     \"los angeles\"   \n",
      "\n",
      "                      cuisine unique_id                     name_2  \\\n",
      "0               \"steakhouses\"       '0'  arnie morton's of chicago   \n",
      "1                     \"delis\"       '1'         art's delicatessen   \n",
      "2               \"californian\"       '2'              hotel bel-air   \n",
      "3             \"french bistro\"       '3'                 cafe bizou   \n",
      "4               \"californian\"       '4'                  campanile   \n",
      "5          \"pacific new wave\"       '5'            chinois on main   \n",
      "6               \"californian\"       '6'                     citrus   \n",
      "7              \"french (new)\"       '7'                      fenix   \n",
      "8               \"californian\"       '8'                    granita   \n",
      "9    \"american (traditional)\"       '9'         grill on the alley   \n",
      "10                 \"japanese\"      '10'           restaurant katsu   \n",
      "11         \"french (classic)\"      '11'                l'orangerie   \n",
      "12            \"french bistro\"      '12'              le chardonnay   \n",
      "13                  \"italian\"      '13'             locanda veneta   \n",
      "14                  \"seafood\"      '14'                  matsuhisa   \n",
      "15              \"steakhouses\"      '15'                   the palm   \n",
      "16              \"californian\"      '16'                     patina   \n",
      "17               \"cafeterias\"      '17'    philippe's the original   \n",
      "18            \"french bistro\"      '18'               pinot bistro   \n",
      "19     \"nuova cucina italian\"      '19'          rex il ristorante   \n",
      "\n",
      "                     address_2            city_2       cuisine_2  \n",
      "0     \"435 s. la cienega blv.\"     \"los angeles\"      \"american\"  \n",
      "1        \"12224 ventura blvd.\"     \"studio city\"      \"american\"  \n",
      "2       \"701 stone canyon rd.\"         \"bel air\"   \"californian\"  \n",
      "3        \"14016 ventura blvd.\"    \"sherman oaks\"        \"french\"  \n",
      "4        \"624 s. la brea ave.\"     \"los angeles\"      \"american\"  \n",
      "5              \"2709 main st.\"    \"santa monica\"        \"french\"  \n",
      "6          \"6703 melrose ave.\"     \"los angeles\"   \"californian\"  \n",
      "7     \"8358 sunset blvd. west\"       \"hollywood\"      \"american\"  \n",
      "8        \"23725 w. malibu rd.\"          \"malibu\"   \"californian\"  \n",
      "9            \"9560 dayton way\"     \"los angeles\"      \"american\"  \n",
      "10    \"1972 n. hillhurst ave.\"     \"los angeles\"         \"asian\"  \n",
      "11   \"903 n. la cienega blvd.\"     \"los angeles\"        \"french\"  \n",
      "12         \"8284 melrose ave.\"     \"los angeles\"        \"french\"  \n",
      "13                   \"3rd st.\"     \"los angeles\"       \"italian\"  \n",
      "14   \"129 n. la cienega blvd.\"   \"beverly hills\"         \"asian\"  \n",
      "15   \"9001 santa monica blvd.\"     \"los angeles\"      \"american\"  \n",
      "16         \"5955 melrose ave.\"     \"los angeles\"   \"californian\"  \n",
      "17       \"1001 n. alameda st.\"     \"los angeles\"      \"american\"  \n",
      "18       \"12969 ventura blvd.\"     \"los angeles\"        \"french\"  \n",
      "19          \"617 s. olive st.\"     \"los angeles\"       \"italian\"  \n"
     ]
    }
   ],
   "source": [
    "# Practice problem\n",
    "import pandas as pd\n",
    "df_1 = pd.read_csv('https://query.data.world/s/vv3snq28bp0TJq2ggCdxGOghEQKPZo')\n",
    "df_2 = pd.read_csv('https://query.data.world/s/9wVKjNT0yiRc3YbVJaiI8a6HGl2d74')\n",
    "df_3 = df_1.merge(df_2, on=\"unique_id\", how=\"inner\")\n",
    "print(df_3.head(20))"
   ]
  },
  {
   "cell_type": "markdown",
   "metadata": {},
   "source": [
    " "
   ]
  },
  {
   "cell_type": "markdown",
   "metadata": {},
   "source": [
    "### Append / Concatenate"
   ]
  },
  {
   "cell_type": "markdown",
   "metadata": {},
   "source": [
    "Concatenation is much more straightforward than merging. It is used when you have dataframes having the same columns and want to append them (pile one on top of the other), or having the same rows and want to append them side-by-side.\n"
   ]
  },
  {
   "cell_type": "code",
   "execution_count": null,
   "metadata": {},
   "outputs": [],
   "source": [
    "# Import the required libraries\n"
   ]
  },
  {
   "cell_type": "markdown",
   "metadata": {},
   "source": [
    "**Appending rows in a dataframe**"
   ]
  },
  {
   "cell_type": "code",
   "execution_count": 23,
   "metadata": {},
   "outputs": [],
   "source": [
    "# Dataframes having the same columns\n",
    "\n",
    "df1 = pd.DataFrame({'Name': ['Aman', 'Joy', 'Rashmi', 'Saif'],\n",
    "                    'Age' : ['34', '31', '22', '33'], \n",
    "                    'Gender': ['M', 'M', 'F', 'M']}\n",
    "                  )\n",
    "\n",
    "df2 = pd.DataFrame({'Name': ['Akhil', 'Asha', 'Preeti'],\n",
    "                    'Age' : ['31', '22', '23'], \n",
    "                    'Gender': ['M', 'F', 'F']}\n",
    "                  )"
   ]
  },
  {
   "cell_type": "code",
   "execution_count": 24,
   "metadata": {},
   "outputs": [
    {
     "data": {
      "text/html": [
       "<div>\n",
       "<style scoped>\n",
       "    .dataframe tbody tr th:only-of-type {\n",
       "        vertical-align: middle;\n",
       "    }\n",
       "\n",
       "    .dataframe tbody tr th {\n",
       "        vertical-align: top;\n",
       "    }\n",
       "\n",
       "    .dataframe thead th {\n",
       "        text-align: right;\n",
       "    }\n",
       "</style>\n",
       "<table border=\"1\" class=\"dataframe\">\n",
       "  <thead>\n",
       "    <tr style=\"text-align: right;\">\n",
       "      <th></th>\n",
       "      <th>Name</th>\n",
       "      <th>Age</th>\n",
       "      <th>Gender</th>\n",
       "    </tr>\n",
       "  </thead>\n",
       "  <tbody>\n",
       "    <tr>\n",
       "      <th>0</th>\n",
       "      <td>Aman</td>\n",
       "      <td>34</td>\n",
       "      <td>M</td>\n",
       "    </tr>\n",
       "    <tr>\n",
       "      <th>1</th>\n",
       "      <td>Joy</td>\n",
       "      <td>31</td>\n",
       "      <td>M</td>\n",
       "    </tr>\n",
       "    <tr>\n",
       "      <th>2</th>\n",
       "      <td>Rashmi</td>\n",
       "      <td>22</td>\n",
       "      <td>F</td>\n",
       "    </tr>\n",
       "    <tr>\n",
       "      <th>3</th>\n",
       "      <td>Saif</td>\n",
       "      <td>33</td>\n",
       "      <td>M</td>\n",
       "    </tr>\n",
       "    <tr>\n",
       "      <th>0</th>\n",
       "      <td>Akhil</td>\n",
       "      <td>31</td>\n",
       "      <td>M</td>\n",
       "    </tr>\n",
       "    <tr>\n",
       "      <th>1</th>\n",
       "      <td>Asha</td>\n",
       "      <td>22</td>\n",
       "      <td>F</td>\n",
       "    </tr>\n",
       "    <tr>\n",
       "      <th>2</th>\n",
       "      <td>Preeti</td>\n",
       "      <td>23</td>\n",
       "      <td>F</td>\n",
       "    </tr>\n",
       "  </tbody>\n",
       "</table>\n",
       "</div>"
      ],
      "text/plain": [
       "     Name Age Gender\n",
       "0    Aman  34      M\n",
       "1     Joy  31      M\n",
       "2  Rashmi  22      F\n",
       "3    Saif  33      M\n",
       "0   Akhil  31      M\n",
       "1    Asha  22      F\n",
       "2  Preeti  23      F"
      ]
     },
     "execution_count": 24,
     "metadata": {},
     "output_type": "execute_result"
    }
   ],
   "source": [
    "# Append the rows of df2 in df1\n",
    "df1.append(df2)"
   ]
  },
  {
   "cell_type": "markdown",
   "metadata": {},
   "source": [
    "**Appending columns in a dataframe**"
   ]
  },
  {
   "cell_type": "code",
   "execution_count": 25,
   "metadata": {},
   "outputs": [],
   "source": [
    "# Another dataframe with same number of rows as df1\n",
    "df3 = pd.DataFrame({'School': ['RK Public', 'JSP', 'Carmel Convent', 'St. Paul'],\n",
    "                    'Graduation Marks': ['84', '89', '76', '91']}\n",
    "                  )"
   ]
  },
  {
   "cell_type": "code",
   "execution_count": 29,
   "metadata": {},
   "outputs": [
    {
     "data": {
      "text/html": [
       "<div>\n",
       "<style scoped>\n",
       "    .dataframe tbody tr th:only-of-type {\n",
       "        vertical-align: middle;\n",
       "    }\n",
       "\n",
       "    .dataframe tbody tr th {\n",
       "        vertical-align: top;\n",
       "    }\n",
       "\n",
       "    .dataframe thead th {\n",
       "        text-align: right;\n",
       "    }\n",
       "</style>\n",
       "<table border=\"1\" class=\"dataframe\">\n",
       "  <thead>\n",
       "    <tr style=\"text-align: right;\">\n",
       "      <th></th>\n",
       "      <th>Name</th>\n",
       "      <th>Age</th>\n",
       "      <th>Gender</th>\n",
       "      <th>School</th>\n",
       "      <th>Graduation Marks</th>\n",
       "    </tr>\n",
       "  </thead>\n",
       "  <tbody>\n",
       "    <tr>\n",
       "      <th>0</th>\n",
       "      <td>Aman</td>\n",
       "      <td>34</td>\n",
       "      <td>M</td>\n",
       "      <td>NaN</td>\n",
       "      <td>NaN</td>\n",
       "    </tr>\n",
       "    <tr>\n",
       "      <th>1</th>\n",
       "      <td>Joy</td>\n",
       "      <td>31</td>\n",
       "      <td>M</td>\n",
       "      <td>NaN</td>\n",
       "      <td>NaN</td>\n",
       "    </tr>\n",
       "    <tr>\n",
       "      <th>2</th>\n",
       "      <td>Rashmi</td>\n",
       "      <td>22</td>\n",
       "      <td>F</td>\n",
       "      <td>NaN</td>\n",
       "      <td>NaN</td>\n",
       "    </tr>\n",
       "    <tr>\n",
       "      <th>3</th>\n",
       "      <td>Saif</td>\n",
       "      <td>33</td>\n",
       "      <td>M</td>\n",
       "      <td>NaN</td>\n",
       "      <td>NaN</td>\n",
       "    </tr>\n",
       "    <tr>\n",
       "      <th>0</th>\n",
       "      <td>NaN</td>\n",
       "      <td>NaN</td>\n",
       "      <td>NaN</td>\n",
       "      <td>RK Public</td>\n",
       "      <td>84</td>\n",
       "    </tr>\n",
       "    <tr>\n",
       "      <th>1</th>\n",
       "      <td>NaN</td>\n",
       "      <td>NaN</td>\n",
       "      <td>NaN</td>\n",
       "      <td>JSP</td>\n",
       "      <td>89</td>\n",
       "    </tr>\n",
       "    <tr>\n",
       "      <th>2</th>\n",
       "      <td>NaN</td>\n",
       "      <td>NaN</td>\n",
       "      <td>NaN</td>\n",
       "      <td>Carmel Convent</td>\n",
       "      <td>76</td>\n",
       "    </tr>\n",
       "    <tr>\n",
       "      <th>3</th>\n",
       "      <td>NaN</td>\n",
       "      <td>NaN</td>\n",
       "      <td>NaN</td>\n",
       "      <td>St. Paul</td>\n",
       "      <td>91</td>\n",
       "    </tr>\n",
       "  </tbody>\n",
       "</table>\n",
       "</div>"
      ],
      "text/plain": [
       "     Name  Age Gender          School Graduation Marks\n",
       "0    Aman   34      M             NaN              NaN\n",
       "1     Joy   31      M             NaN              NaN\n",
       "2  Rashmi   22      F             NaN              NaN\n",
       "3    Saif   33      M             NaN              NaN\n",
       "0     NaN  NaN    NaN       RK Public               84\n",
       "1     NaN  NaN    NaN             JSP               89\n",
       "2     NaN  NaN    NaN  Carmel Convent               76\n",
       "3     NaN  NaN    NaN        St. Paul               91"
      ]
     },
     "execution_count": 29,
     "metadata": {},
     "output_type": "execute_result"
    }
   ],
   "source": [
    "# Concatenating the dataframes: df1 and df3\n",
    "pd.concat([df1,df3] )  # concat acts like the append if axis is not 1."
   ]
  },
  {
   "cell_type": "code",
   "execution_count": 30,
   "metadata": {},
   "outputs": [
    {
     "data": {
      "text/html": [
       "<div>\n",
       "<style scoped>\n",
       "    .dataframe tbody tr th:only-of-type {\n",
       "        vertical-align: middle;\n",
       "    }\n",
       "\n",
       "    .dataframe tbody tr th {\n",
       "        vertical-align: top;\n",
       "    }\n",
       "\n",
       "    .dataframe thead th {\n",
       "        text-align: right;\n",
       "    }\n",
       "</style>\n",
       "<table border=\"1\" class=\"dataframe\">\n",
       "  <thead>\n",
       "    <tr style=\"text-align: right;\">\n",
       "      <th></th>\n",
       "      <th>Name</th>\n",
       "      <th>Age</th>\n",
       "      <th>Gender</th>\n",
       "      <th>School</th>\n",
       "      <th>Graduation Marks</th>\n",
       "    </tr>\n",
       "  </thead>\n",
       "  <tbody>\n",
       "    <tr>\n",
       "      <th>0</th>\n",
       "      <td>Aman</td>\n",
       "      <td>34</td>\n",
       "      <td>M</td>\n",
       "      <td>RK Public</td>\n",
       "      <td>84</td>\n",
       "    </tr>\n",
       "    <tr>\n",
       "      <th>1</th>\n",
       "      <td>Joy</td>\n",
       "      <td>31</td>\n",
       "      <td>M</td>\n",
       "      <td>JSP</td>\n",
       "      <td>89</td>\n",
       "    </tr>\n",
       "    <tr>\n",
       "      <th>2</th>\n",
       "      <td>Rashmi</td>\n",
       "      <td>22</td>\n",
       "      <td>F</td>\n",
       "      <td>Carmel Convent</td>\n",
       "      <td>76</td>\n",
       "    </tr>\n",
       "    <tr>\n",
       "      <th>3</th>\n",
       "      <td>Saif</td>\n",
       "      <td>33</td>\n",
       "      <td>M</td>\n",
       "      <td>St. Paul</td>\n",
       "      <td>91</td>\n",
       "    </tr>\n",
       "  </tbody>\n",
       "</table>\n",
       "</div>"
      ],
      "text/plain": [
       "     Name Age Gender          School Graduation Marks\n",
       "0    Aman  34      M       RK Public               84\n",
       "1     Joy  31      M             JSP               89\n",
       "2  Rashmi  22      F  Carmel Convent               76\n",
       "3    Saif  33      M        St. Paul               91"
      ]
     },
     "execution_count": 30,
     "metadata": {},
     "output_type": "execute_result"
    }
   ],
   "source": [
    "# Concatenating the dataframes across column: df1 and df3\n",
    "pd.concat([df1,df3] , axis=1)"
   ]
  },
  {
   "cell_type": "code",
   "execution_count": 31,
   "metadata": {},
   "outputs": [],
   "source": [
    "# merge need common column. but the append and concat dows not need common columns."
   ]
  },
  {
   "cell_type": "code",
   "execution_count": 32,
   "metadata": {},
   "outputs": [
    {
     "name": "stdout",
     "output_type": "stream",
     "text": [
      "                        name                     address             city  \\\n",
      "0  arnie morton's of chicago   \"435 s. la cienega blvd.\"    \"los angeles\"   \n",
      "1                 art's deli       \"12224 ventura blvd.\"    \"studio city\"   \n",
      "2              bel-air hotel      \"701 stone canyon rd.\"        \"bel air\"   \n",
      "3                 cafe bizou       \"14016 ventura blvd.\"   \"sherman oaks\"   \n",
      "4                  campanile       \"624 s. la brea ave.\"    \"los angeles\"   \n",
      "\n",
      "            cuisine unique_id name_2 address_2 city_2 cuisine_2  \n",
      "0     \"steakhouses\"       '0'    NaN       NaN    NaN       NaN  \n",
      "1           \"delis\"       '1'    NaN       NaN    NaN       NaN  \n",
      "2     \"californian\"       '2'    NaN       NaN    NaN       NaN  \n",
      "3   \"french bistro\"       '3'    NaN       NaN    NaN       NaN  \n",
      "4     \"californian\"       '4'    NaN       NaN    NaN       NaN  \n"
     ]
    }
   ],
   "source": [
    "# practice problems\n",
    "\n",
    "import pandas as pd\n",
    "df_1 = pd.read_csv('https://query.data.world/s/vv3snq28bp0TJq2ggCdxGOghEQKPZo')\n",
    "df_2 = pd.read_csv('https://query.data.world/s/9wVKjNT0yiRc3YbVJaiI8a6HGl2d74')\n",
    "df_3 =df_1.append(df_2)\n",
    "\n",
    "print(df_3.head())"
   ]
  },
  {
   "cell_type": "raw",
   "metadata": {},
   "source": []
  },
  {
   "cell_type": "markdown",
   "metadata": {},
   "source": [
    "\n",
    "You can also perform various mathematical operations between two or more dataframes. For example, you may have two dataframes for storing the sales information for 2018 and 2019. Now, you want the sales data combined over a period of 2 years. In such a case, the add function in Pandas allows you to directly combine the two dataframes easily. \n",
    "\n",
    " \n",
    "\n",
    "Apart from the merge, append or concat, you can also perform mathematical operations to combine multiple dataframes. When two dataframes have the same row and column labels, you can directly use the mathematical operators provided in the list below:\n",
    "\n",
    "add(): +\n",
    "sub(): -\n",
    "mul(): *\n",
    "div(): /\n",
    "floordiv(): //\n",
    "mod(): %\n",
    "pow() :**\n",
    " \n",
    "\n",
    "Pandas will return the derived values with the same labels in a combined dataframe. It also provides the attribute fill_value to control whether how you want to deal with the values that are not common between two dataframes. You can refer to the documentation for the same."
   ]
  },
  {
   "cell_type": "code",
   "execution_count": 1,
   "metadata": {},
   "outputs": [
    {
     "name": "stdout",
     "output_type": "stream",
     "text": [
      "         Medals\n",
      "Country        \n",
      "USA        72.0\n",
      "France     53.0\n",
      "UK         27.0\n",
      "Russia     25.0\n",
      "Germany    20.0\n"
     ]
    }
   ],
   "source": [
    "import numpy as np \n",
    "import pandas as pd\n",
    "\n",
    "# Defining the three dataframes indicating the gold, silver, and bronze medal counts\n",
    "# of different countries\n",
    "gold = pd.DataFrame({'Country': ['USA', 'France', 'Russia'],\n",
    "                         'Medals': [15, 13, 9]}\n",
    "                    )\n",
    "silver = pd.DataFrame({'Country': ['USA', 'Germany', 'Russia'],\n",
    "                        'Medals': [29, 20, 16]}\n",
    "                    )\n",
    "bronze = pd.DataFrame({'Country': ['France', 'USA', 'UK'],\n",
    "                        'Medals': [40, 28, 27]}\n",
    "                    )\n",
    "gold=gold.set_index('Country')\n",
    "silver=silver.set_index('Country')\n",
    "bronze=bronze.set_index('Country')\n",
    "final_df= gold.add(silver, fill_value=0)\n",
    "final_df= final_df.add(bronze, fill_value=0)\n",
    "final_df.sort_values('Medals', ascending= False, inplace= True)\n",
    "print(final_df)"
   ]
  },
  {
   "cell_type": "code",
   "execution_count": null,
   "metadata": {},
   "outputs": [],
   "source": []
  }
 ],
 "metadata": {
  "kernelspec": {
   "display_name": "Python 3",
   "language": "python",
   "name": "python3"
  },
  "language_info": {
   "codemirror_mode": {
    "name": "ipython",
    "version": 3
   },
   "file_extension": ".py",
   "mimetype": "text/x-python",
   "name": "python",
   "nbconvert_exporter": "python",
   "pygments_lexer": "ipython3",
   "version": "3.7.6"
  }
 },
 "nbformat": 4,
 "nbformat_minor": 2
}
